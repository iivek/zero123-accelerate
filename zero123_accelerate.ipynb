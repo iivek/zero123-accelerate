{
  "cells": [
    {
      "cell_type": "markdown",
      "metadata": {
        "id": "oJrP1azFMrZu"
      },
      "source": [
        "### Zero-1-to-3: Zero-shot One Image to 3D Object, Demo\n",
        "... using Hugging Face Accelerate and [sharded checkpoints](https://huggingface.co/learningdisorder/zero123/tree/main)"
      ]
    },
    {
      "cell_type": "code",
      "execution_count": null,
      "metadata": {
        "id": "5jH2ouDF4CL7"
      },
      "outputs": [],
      "source": [
        "!git clone https://github.com/iivek/zero123-accelerate.git\n",
        "%cd /content/zero123-accelerate\n",
        "!git submodule update --init\n",
        "\n",
        "setup_out = !./setup.sh\n",
        "pythonpath = setup_out[-1]\n",
        "%set_env PYTHONPATH=$pythonpath\n",
        "# sys.path.extend(pythonpath.split(os.pathsep))\n",
        "\n",
        "!mkdir checkpoints\n",
        "!wget https://huggingface.co/learningdisorder/zero123/resolve/main/zero-123-sharded-5gb/shard-00001-of-00002.bin -P checkpoints\n",
        "!wget https://huggingface.co/learningdisorder/zero123/resolve/main/zero-123-sharded-5gb/shard-00002-of-00002.bin -P checkpoints\n",
        "!wget https://huggingface.co/learningdisorder/zero123/resolve/main/zero-123-sharded-5gb/.index.json -P checkpoints\n",
        "\n",
        "!python app.py --ckpt '/content/zero123-accelerate/checkpoints' --device_map './config/device_map.yml'"
      ]
    }
  ],
  "metadata": {
    "accelerator": "GPU",
    "colab": {
      "provenance": [],
      "gpuType": "T4"
    },
    "gpuClass": "standard",
    "kernelspec": {
      "display_name": "Python 3",
      "name": "python3"
    },
    "language_info": {
      "name": "python"
    }
  },
  "nbformat": 4,
  "nbformat_minor": 0
}